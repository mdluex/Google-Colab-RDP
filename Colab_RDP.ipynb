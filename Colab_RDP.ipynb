{
  "nbformat": 4,
  "nbformat_minor": 0,
  "metadata": {
    "colab": {
      "name": "Test_RDP.ipynb",
      "provenance": [],
      "collapsed_sections": []
    },
    "kernelspec": {
      "name": "python3",
      "display_name": "Python 3"
    }
  },
  "cells": [
    {
      "cell_type": "markdown",
      "metadata": {
        "id": "We6O3zVo9Cpf"
      },
      "source": [
        "# **Google Colab RDP**\r\n",
        "a tool to help you make a free lifetime Linux-Debian RDP from Google.\r\n",
        "\r\n",
        "**Run the code below first to setup your machine.**"
      ]
    },
    {
      "cell_type": "code",
      "metadata": {
        "id": "-NrMflF4peE0"
      },
      "source": [
        "! wget https://raw.githubusercontent.com/mdluex/Google-Colab-RDP/main/RDP.sh &> /dev/null \r\n",
        "! chmod +x RDP.sh \r\n",
        "! ./RDP.sh"
      ],
      "execution_count": null,
      "outputs": []
    },
    {
      "cell_type": "markdown",
      "metadata": {
        "id": "RqikMivw9bXd"
      },
      "source": [
        "**To prevent the machine from disconnect run the code below.**"
      ]
    },
    {
      "cell_type": "code",
      "metadata": {
        "id": "BzSV9gtA-3Zr"
      },
      "source": [
        "pip install mouse"
      ],
      "execution_count": null,
      "outputs": []
    },
    {
      "cell_type": "markdown",
      "metadata": {
        "id": "1km8KYTk-9KK"
      },
      "source": [
        "**Then run this code below.**"
      ]
    },
    {
      "cell_type": "code",
      "metadata": {
        "id": "gPJqyesZ-wLp"
      },
      "source": [
        "import numpy as np\r\n",
        "import time\r\n",
        "import mouse\r\n",
        "import threading\r\n",
        "\r\n",
        "def move_mouse():\r\n",
        "    while True:\r\n",
        "        random_row = np.random.random_sample()*100\r\n",
        "        random_col = np.random.random_sample()*10\r\n",
        "        random_time = np.random.random_sample()*np.random.random_sample() * 100\r\n",
        "        mouse.wheel(1000)\r\n",
        "        mouse.wheel(-1000)\r\n",
        "        mouse.move(random_row, random_col, absolute=False, duration=0.2)\r\n",
        "        mouse.move(-random_row, -random_col, absolute=False, duration = 0.2)\r\n",
        "        mouse.LEFT\r\n",
        "        time.sleep(random_time)\r\n",
        "\r\n",
        "\r\n",
        "x = threading.Thread(target=move_mouse)\r\n",
        "x.start()"
      ],
      "execution_count": null,
      "outputs": []
    }
  ]
}